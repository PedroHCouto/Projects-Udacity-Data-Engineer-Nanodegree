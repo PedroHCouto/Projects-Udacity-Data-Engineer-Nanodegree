{
 "metadata": {
  "language_info": {
   "codemirror_mode": {
    "name": "ipython",
    "version": 3
   },
   "file_extension": ".py",
   "mimetype": "text/x-python",
   "name": "python",
   "nbconvert_exporter": "python",
   "pygments_lexer": "ipython3",
   "version": "3.9.2"
  },
  "orig_nbformat": 2,
  "kernelspec": {
   "name": "python392jvsc74a57bd0a46a7326da725c74d0abad1997cb2210958481e119d745833634a7937449cffa",
   "display_name": "Python 3.9.2 64-bit ('ml': conda)"
  }
 },
 "nbformat": 4,
 "nbformat_minor": 2,
 "cells": [
  {
   "source": [
    "# Explorating and Prototyping\n",
    "\n",
    "This notebook should be used for Exploration and Prototyping the solution before moving to the cloud"
   ],
   "cell_type": "markdown",
   "metadata": {}
  },
  {
   "cell_type": "code",
   "execution_count": 1,
   "metadata": {},
   "outputs": [],
   "source": [
    "# importing pyspark in order to find spark on my local computer\n",
    "import findspark\n",
    "findspark.init()"
   ]
  },
  {
   "cell_type": "code",
   "execution_count": 63,
   "metadata": {},
   "outputs": [],
   "source": [
    "# importing all necessary packages\n",
    "import pandas as pd\n",
    "import configparser\n",
    "from datetime import datetime\n",
    "import os\n",
    "from pyspark.sql import SparkSession\n",
    "from pyspark.sql.functions import udf, col\n",
    "from pyspark.sql.functions import year, month, dayofmonth, hour, weekofyear, date_format\n",
    "import pyspark.sql.functions as F\n",
    "from pyspark.sql.types import StructType, StructField, IntegerType, StringType, DateType, FloatType, DoubleType\n",
    "from pyspark.sql import DataFrame"
   ]
  },
  {
   "source": [
    "## 1. Reading the data"
   ],
   "cell_type": "markdown",
   "metadata": {}
  },
  {
   "cell_type": "code",
   "execution_count": 3,
   "metadata": {},
   "outputs": [],
   "source": [
    "# creating a SparkSession\n",
    "spark = SparkSession.builder.appName('DEND_Project_4_DL_Spark').getOrCreate()"
   ]
  },
  {
   "cell_type": "code",
   "execution_count": 4,
   "metadata": {},
   "outputs": [],
   "source": [
    "# Setting the paths where the files are located (both log and sond are in JSON)\n",
    "path_log = './data/log-data'\n",
    "path_song = './data/song_data'"
   ]
  },
  {
   "cell_type": "code",
   "execution_count": 5,
   "metadata": {},
   "outputs": [],
   "source": [
    "# reading the log-data into a spark dataframe\n",
    "df_log = spark.read.json(path_log)"
   ]
  },
  {
   "cell_type": "code",
   "execution_count": 6,
   "metadata": {},
   "outputs": [
    {
     "output_type": "execute_result",
     "data": {
      "text/plain": [
       "        artist       auth firstName gender  itemInSession lastName     length  \\\n",
       "0     Harmonia  Logged In      Ryan      M              0    Smith  655.77751   \n",
       "1  The Prodigy  Logged In      Ryan      M              1    Smith  260.07465   \n",
       "2        Train  Logged In      Ryan      M              2    Smith  205.45261   \n",
       "3         None  Logged In     Wyatt      M              0    Scott        NaN   \n",
       "4         None  Logged In    Austin      M              0  Rosales        NaN   \n",
       "\n",
       "  level                               location method      page  registration  \\\n",
       "0  free     San Jose-Sunnyvale-Santa Clara, CA    PUT  NextSong  1.541017e+12   \n",
       "1  free     San Jose-Sunnyvale-Santa Clara, CA    PUT  NextSong  1.541017e+12   \n",
       "2  free     San Jose-Sunnyvale-Santa Clara, CA    PUT  NextSong  1.541017e+12   \n",
       "3  free              Eureka-Arcata-Fortuna, CA    GET      Home  1.540872e+12   \n",
       "4  free  New York-Newark-Jersey City, NY-NJ-PA    GET      Home  1.541060e+12   \n",
       "\n",
       "   sessionId             song  status             ts  \\\n",
       "0        583    Sehr kosmisch     200  1542241826796   \n",
       "1        583  The Big Gundown     200  1542242481796   \n",
       "2        583         Marry Me     200  1542242741796   \n",
       "3        563             None     200  1542247071796   \n",
       "4        521             None     200  1542252577796   \n",
       "\n",
       "                                           userAgent userId  \n",
       "0  \"Mozilla/5.0 (X11; Linux x86_64) AppleWebKit/5...     26  \n",
       "1  \"Mozilla/5.0 (X11; Linux x86_64) AppleWebKit/5...     26  \n",
       "2  \"Mozilla/5.0 (X11; Linux x86_64) AppleWebKit/5...     26  \n",
       "3  Mozilla/5.0 (Windows NT 6.1; WOW64; Trident/7....      9  \n",
       "4  Mozilla/5.0 (Windows NT 6.1; rv:31.0) Gecko/20...     12  "
      ],
      "text/html": "<div>\n<style scoped>\n    .dataframe tbody tr th:only-of-type {\n        vertical-align: middle;\n    }\n\n    .dataframe tbody tr th {\n        vertical-align: top;\n    }\n\n    .dataframe thead th {\n        text-align: right;\n    }\n</style>\n<table border=\"1\" class=\"dataframe\">\n  <thead>\n    <tr style=\"text-align: right;\">\n      <th></th>\n      <th>artist</th>\n      <th>auth</th>\n      <th>firstName</th>\n      <th>gender</th>\n      <th>itemInSession</th>\n      <th>lastName</th>\n      <th>length</th>\n      <th>level</th>\n      <th>location</th>\n      <th>method</th>\n      <th>page</th>\n      <th>registration</th>\n      <th>sessionId</th>\n      <th>song</th>\n      <th>status</th>\n      <th>ts</th>\n      <th>userAgent</th>\n      <th>userId</th>\n    </tr>\n  </thead>\n  <tbody>\n    <tr>\n      <th>0</th>\n      <td>Harmonia</td>\n      <td>Logged In</td>\n      <td>Ryan</td>\n      <td>M</td>\n      <td>0</td>\n      <td>Smith</td>\n      <td>655.77751</td>\n      <td>free</td>\n      <td>San Jose-Sunnyvale-Santa Clara, CA</td>\n      <td>PUT</td>\n      <td>NextSong</td>\n      <td>1.541017e+12</td>\n      <td>583</td>\n      <td>Sehr kosmisch</td>\n      <td>200</td>\n      <td>1542241826796</td>\n      <td>\"Mozilla/5.0 (X11; Linux x86_64) AppleWebKit/5...</td>\n      <td>26</td>\n    </tr>\n    <tr>\n      <th>1</th>\n      <td>The Prodigy</td>\n      <td>Logged In</td>\n      <td>Ryan</td>\n      <td>M</td>\n      <td>1</td>\n      <td>Smith</td>\n      <td>260.07465</td>\n      <td>free</td>\n      <td>San Jose-Sunnyvale-Santa Clara, CA</td>\n      <td>PUT</td>\n      <td>NextSong</td>\n      <td>1.541017e+12</td>\n      <td>583</td>\n      <td>The Big Gundown</td>\n      <td>200</td>\n      <td>1542242481796</td>\n      <td>\"Mozilla/5.0 (X11; Linux x86_64) AppleWebKit/5...</td>\n      <td>26</td>\n    </tr>\n    <tr>\n      <th>2</th>\n      <td>Train</td>\n      <td>Logged In</td>\n      <td>Ryan</td>\n      <td>M</td>\n      <td>2</td>\n      <td>Smith</td>\n      <td>205.45261</td>\n      <td>free</td>\n      <td>San Jose-Sunnyvale-Santa Clara, CA</td>\n      <td>PUT</td>\n      <td>NextSong</td>\n      <td>1.541017e+12</td>\n      <td>583</td>\n      <td>Marry Me</td>\n      <td>200</td>\n      <td>1542242741796</td>\n      <td>\"Mozilla/5.0 (X11; Linux x86_64) AppleWebKit/5...</td>\n      <td>26</td>\n    </tr>\n    <tr>\n      <th>3</th>\n      <td>None</td>\n      <td>Logged In</td>\n      <td>Wyatt</td>\n      <td>M</td>\n      <td>0</td>\n      <td>Scott</td>\n      <td>NaN</td>\n      <td>free</td>\n      <td>Eureka-Arcata-Fortuna, CA</td>\n      <td>GET</td>\n      <td>Home</td>\n      <td>1.540872e+12</td>\n      <td>563</td>\n      <td>None</td>\n      <td>200</td>\n      <td>1542247071796</td>\n      <td>Mozilla/5.0 (Windows NT 6.1; WOW64; Trident/7....</td>\n      <td>9</td>\n    </tr>\n    <tr>\n      <th>4</th>\n      <td>None</td>\n      <td>Logged In</td>\n      <td>Austin</td>\n      <td>M</td>\n      <td>0</td>\n      <td>Rosales</td>\n      <td>NaN</td>\n      <td>free</td>\n      <td>New York-Newark-Jersey City, NY-NJ-PA</td>\n      <td>GET</td>\n      <td>Home</td>\n      <td>1.541060e+12</td>\n      <td>521</td>\n      <td>None</td>\n      <td>200</td>\n      <td>1542252577796</td>\n      <td>Mozilla/5.0 (Windows NT 6.1; rv:31.0) Gecko/20...</td>\n      <td>12</td>\n    </tr>\n  </tbody>\n</table>\n</div>"
     },
     "metadata": {},
     "execution_count": 6
    }
   ],
   "source": [
    "# checking the first 5 rows in a understandble way (using pandas for it)\n",
    "df_log.limit(5).toPandas()"
   ]
  },
  {
   "cell_type": "code",
   "execution_count": 7,
   "metadata": {},
   "outputs": [
    {
     "output_type": "execute_result",
     "data": {
      "text/plain": [
       "8056"
      ]
     },
     "metadata": {},
     "execution_count": 7
    }
   ],
   "source": [
    "# checking the number of observations present in log-data\n",
    "df_log.count()"
   ]
  },
  {
   "cell_type": "code",
   "execution_count": 8,
   "metadata": {},
   "outputs": [
    {
     "output_type": "stream",
     "name": "stdout",
     "text": [
      "root\n |-- artist: string (nullable = true)\n |-- auth: string (nullable = true)\n |-- firstName: string (nullable = true)\n |-- gender: string (nullable = true)\n |-- itemInSession: long (nullable = true)\n |-- lastName: string (nullable = true)\n |-- length: double (nullable = true)\n |-- level: string (nullable = true)\n |-- location: string (nullable = true)\n |-- method: string (nullable = true)\n |-- page: string (nullable = true)\n |-- registration: double (nullable = true)\n |-- sessionId: long (nullable = true)\n |-- song: string (nullable = true)\n |-- status: long (nullable = true)\n |-- ts: long (nullable = true)\n |-- userAgent: string (nullable = true)\n |-- userId: string (nullable = true)\n\n"
     ]
    }
   ],
   "source": [
    "df_log.printSchema()"
   ]
  },
  {
   "cell_type": "code",
   "execution_count": 22,
   "metadata": {},
   "outputs": [
    {
     "output_type": "error",
     "ename": "AnalysisException",
     "evalue": "Unable to infer schema for JSON. It must be specified manually.;",
     "traceback": [
      "\u001b[0;31m---------------------------------------------------------------------------\u001b[0m",
      "\u001b[0;31mAnalysisException\u001b[0m                         Traceback (most recent call last)",
      "\u001b[0;32m<ipython-input-22-78d3428b0565>\u001b[0m in \u001b[0;36m<module>\u001b[0;34m\u001b[0m\n\u001b[1;32m      1\u001b[0m \u001b[0;31m# same process for song data\u001b[0m\u001b[0;34m\u001b[0m\u001b[0;34m\u001b[0m\u001b[0;34m\u001b[0m\u001b[0m\n\u001b[0;32m----> 2\u001b[0;31m \u001b[0mdf_song\u001b[0m \u001b[0;34m=\u001b[0m \u001b[0mspark\u001b[0m\u001b[0;34m.\u001b[0m\u001b[0mread\u001b[0m\u001b[0;34m.\u001b[0m\u001b[0mjson\u001b[0m\u001b[0;34m(\u001b[0m\u001b[0mpath_song\u001b[0m\u001b[0;34m)\u001b[0m\u001b[0;34m\u001b[0m\u001b[0;34m\u001b[0m\u001b[0m\n\u001b[0m",
      "\u001b[0;32m~/spark/spark-3.0.2/python/pyspark/sql/readwriter.py\u001b[0m in \u001b[0;36mjson\u001b[0;34m(self, path, schema, primitivesAsString, prefersDecimal, allowComments, allowUnquotedFieldNames, allowSingleQuotes, allowNumericLeadingZero, allowBackslashEscapingAnyCharacter, mode, columnNameOfCorruptRecord, dateFormat, timestampFormat, multiLine, allowUnquotedControlChars, lineSep, samplingRatio, dropFieldIfAllNull, encoding, locale, pathGlobFilter, recursiveFileLookup)\u001b[0m\n\u001b[1;32m    298\u001b[0m             \u001b[0mpath\u001b[0m \u001b[0;34m=\u001b[0m \u001b[0;34m[\u001b[0m\u001b[0mpath\u001b[0m\u001b[0;34m]\u001b[0m\u001b[0;34m\u001b[0m\u001b[0;34m\u001b[0m\u001b[0m\n\u001b[1;32m    299\u001b[0m         \u001b[0;32mif\u001b[0m \u001b[0mtype\u001b[0m\u001b[0;34m(\u001b[0m\u001b[0mpath\u001b[0m\u001b[0;34m)\u001b[0m \u001b[0;34m==\u001b[0m \u001b[0mlist\u001b[0m\u001b[0;34m:\u001b[0m\u001b[0;34m\u001b[0m\u001b[0;34m\u001b[0m\u001b[0m\n\u001b[0;32m--> 300\u001b[0;31m             \u001b[0;32mreturn\u001b[0m \u001b[0mself\u001b[0m\u001b[0;34m.\u001b[0m\u001b[0m_df\u001b[0m\u001b[0;34m(\u001b[0m\u001b[0mself\u001b[0m\u001b[0;34m.\u001b[0m\u001b[0m_jreader\u001b[0m\u001b[0;34m.\u001b[0m\u001b[0mjson\u001b[0m\u001b[0;34m(\u001b[0m\u001b[0mself\u001b[0m\u001b[0;34m.\u001b[0m\u001b[0m_spark\u001b[0m\u001b[0;34m.\u001b[0m\u001b[0m_sc\u001b[0m\u001b[0;34m.\u001b[0m\u001b[0m_jvm\u001b[0m\u001b[0;34m.\u001b[0m\u001b[0mPythonUtils\u001b[0m\u001b[0;34m.\u001b[0m\u001b[0mtoSeq\u001b[0m\u001b[0;34m(\u001b[0m\u001b[0mpath\u001b[0m\u001b[0;34m)\u001b[0m\u001b[0;34m)\u001b[0m\u001b[0;34m)\u001b[0m\u001b[0;34m\u001b[0m\u001b[0;34m\u001b[0m\u001b[0m\n\u001b[0m\u001b[1;32m    301\u001b[0m         \u001b[0;32melif\u001b[0m \u001b[0misinstance\u001b[0m\u001b[0;34m(\u001b[0m\u001b[0mpath\u001b[0m\u001b[0;34m,\u001b[0m \u001b[0mRDD\u001b[0m\u001b[0;34m)\u001b[0m\u001b[0;34m:\u001b[0m\u001b[0;34m\u001b[0m\u001b[0;34m\u001b[0m\u001b[0m\n\u001b[1;32m    302\u001b[0m             \u001b[0;32mdef\u001b[0m \u001b[0mfunc\u001b[0m\u001b[0;34m(\u001b[0m\u001b[0miterator\u001b[0m\u001b[0;34m)\u001b[0m\u001b[0;34m:\u001b[0m\u001b[0;34m\u001b[0m\u001b[0;34m\u001b[0m\u001b[0m\n",
      "\u001b[0;32m~/spark/spark-3.0.2/python/lib/py4j-0.10.9-src.zip/py4j/java_gateway.py\u001b[0m in \u001b[0;36m__call__\u001b[0;34m(self, *args)\u001b[0m\n\u001b[1;32m   1302\u001b[0m \u001b[0;34m\u001b[0m\u001b[0m\n\u001b[1;32m   1303\u001b[0m         \u001b[0manswer\u001b[0m \u001b[0;34m=\u001b[0m \u001b[0mself\u001b[0m\u001b[0;34m.\u001b[0m\u001b[0mgateway_client\u001b[0m\u001b[0;34m.\u001b[0m\u001b[0msend_command\u001b[0m\u001b[0;34m(\u001b[0m\u001b[0mcommand\u001b[0m\u001b[0;34m)\u001b[0m\u001b[0;34m\u001b[0m\u001b[0;34m\u001b[0m\u001b[0m\n\u001b[0;32m-> 1304\u001b[0;31m         return_value = get_return_value(\n\u001b[0m\u001b[1;32m   1305\u001b[0m             answer, self.gateway_client, self.target_id, self.name)\n\u001b[1;32m   1306\u001b[0m \u001b[0;34m\u001b[0m\u001b[0m\n",
      "\u001b[0;32m~/spark/spark-3.0.2/python/pyspark/sql/utils.py\u001b[0m in \u001b[0;36mdeco\u001b[0;34m(*a, **kw)\u001b[0m\n\u001b[1;32m    132\u001b[0m                 \u001b[0;31m# Hide where the exception came from that shows a non-Pythonic\u001b[0m\u001b[0;34m\u001b[0m\u001b[0;34m\u001b[0m\u001b[0;34m\u001b[0m\u001b[0m\n\u001b[1;32m    133\u001b[0m                 \u001b[0;31m# JVM exception message.\u001b[0m\u001b[0;34m\u001b[0m\u001b[0;34m\u001b[0m\u001b[0;34m\u001b[0m\u001b[0m\n\u001b[0;32m--> 134\u001b[0;31m                 \u001b[0mraise_from\u001b[0m\u001b[0;34m(\u001b[0m\u001b[0mconverted\u001b[0m\u001b[0;34m)\u001b[0m\u001b[0;34m\u001b[0m\u001b[0;34m\u001b[0m\u001b[0m\n\u001b[0m\u001b[1;32m    135\u001b[0m             \u001b[0;32melse\u001b[0m\u001b[0;34m:\u001b[0m\u001b[0;34m\u001b[0m\u001b[0;34m\u001b[0m\u001b[0m\n\u001b[1;32m    136\u001b[0m                 \u001b[0;32mraise\u001b[0m\u001b[0;34m\u001b[0m\u001b[0;34m\u001b[0m\u001b[0m\n",
      "\u001b[0;32m~/spark/spark-3.0.2/python/pyspark/sql/utils.py\u001b[0m in \u001b[0;36mraise_from\u001b[0;34m(e)\u001b[0m\n",
      "\u001b[0;31mAnalysisException\u001b[0m: Unable to infer schema for JSON. It must be specified manually.;"
     ]
    }
   ],
   "source": [
    "# same process for song data\n",
    "df_song = spark.read.json(path_song)"
   ]
  },
  {
   "source": [
    "As the error message reports, the schema must be manually declared using spark types and structure."
   ],
   "cell_type": "markdown",
   "metadata": {}
  },
  {
   "cell_type": "code",
   "execution_count": 40,
   "metadata": {},
   "outputs": [],
   "source": [
    "schema = StructType([StructField('num_songs', IntegerType()),\n",
    "                     StructField('artist_id', StringType()),\n",
    "                     StructField('artist_latitude', FloatType()),\n",
    "                     StructField('artist_longitude', FloatType()),\n",
    "                     StructField('artist_location', StringType()),\n",
    "                     StructField('artist_name', StringType()),\n",
    "                     StructField('song_id', StringType()),\n",
    "                     StructField('title', StringType()),\n",
    "                     StructField('duration', DoubleType()),\n",
    "                     StructField('year', IntegerType())\n",
    "                     ])"
   ]
  },
  {
   "cell_type": "code",
   "execution_count": 41,
   "metadata": {},
   "outputs": [],
   "source": [
    "# reading the song-data properly\n",
    "df_song = spark.read.option(\"recursiveFileLookup\",\"true\").json(path_song, schema = schema)"
   ]
  },
  {
   "cell_type": "code",
   "execution_count": 42,
   "metadata": {},
   "outputs": [
    {
     "output_type": "execute_result",
     "data": {
      "text/plain": [
       "   num_songs           artist_id  artist_latitude  artist_longitude  \\\n",
       "0          1  ARDR4AC1187FB371A1              NaN               NaN   \n",
       "1          1  AREBBGV1187FB523D2              NaN               NaN   \n",
       "2          1  ARMAC4T1187FB3FA4C        40.826241        -74.479950   \n",
       "3          1  ARPBNLO1187FB3D52F        40.714550        -74.007118   \n",
       "4          1  ARDNS031187B9924F0        32.678280        -83.222954   \n",
       "\n",
       "     artist_location                                        artist_name  \\\n",
       "0                     Montserrat Caballé;Placido Domingo;Vicente Sar...   \n",
       "1        Houston, TX       Mike Jones (Featuring CJ_ Mello & Lil' Bran)   \n",
       "2  Morris Plains, NJ                          The Dillinger Escape Plan   \n",
       "3       New York, NY                                           Tiny Tim   \n",
       "4            Georgia                                         Tim Wilson   \n",
       "\n",
       "              song_id                                              title  \\\n",
       "0  SOBAYLL12A8C138AF9                    Sono andati? Fingevo di dormire   \n",
       "1  SOOLYAZ12A6701F4A6                    Laws Patrolling (Album Version)   \n",
       "2  SOBBUGU12A8C13E95D                    Setting Fire to Sleeping Giants   \n",
       "3  SOAOIBZ12AB01815BE  I Hold Your Hand In Mine [Live At Royal Albert...   \n",
       "4  SONYPOM12A8C13B2D7  I Think My Wife Is Running Around On Me (Taco ...   \n",
       "\n",
       "    duration  year  \n",
       "0  511.16363     0  \n",
       "1  173.66159     0  \n",
       "2  207.77751  2004  \n",
       "3   43.36281  2000  \n",
       "4  186.48771  2005  "
      ],
      "text/html": "<div>\n<style scoped>\n    .dataframe tbody tr th:only-of-type {\n        vertical-align: middle;\n    }\n\n    .dataframe tbody tr th {\n        vertical-align: top;\n    }\n\n    .dataframe thead th {\n        text-align: right;\n    }\n</style>\n<table border=\"1\" class=\"dataframe\">\n  <thead>\n    <tr style=\"text-align: right;\">\n      <th></th>\n      <th>num_songs</th>\n      <th>artist_id</th>\n      <th>artist_latitude</th>\n      <th>artist_longitude</th>\n      <th>artist_location</th>\n      <th>artist_name</th>\n      <th>song_id</th>\n      <th>title</th>\n      <th>duration</th>\n      <th>year</th>\n    </tr>\n  </thead>\n  <tbody>\n    <tr>\n      <th>0</th>\n      <td>1</td>\n      <td>ARDR4AC1187FB371A1</td>\n      <td>NaN</td>\n      <td>NaN</td>\n      <td></td>\n      <td>Montserrat Caballé;Placido Domingo;Vicente Sar...</td>\n      <td>SOBAYLL12A8C138AF9</td>\n      <td>Sono andati? Fingevo di dormire</td>\n      <td>511.16363</td>\n      <td>0</td>\n    </tr>\n    <tr>\n      <th>1</th>\n      <td>1</td>\n      <td>AREBBGV1187FB523D2</td>\n      <td>NaN</td>\n      <td>NaN</td>\n      <td>Houston, TX</td>\n      <td>Mike Jones (Featuring CJ_ Mello &amp; Lil' Bran)</td>\n      <td>SOOLYAZ12A6701F4A6</td>\n      <td>Laws Patrolling (Album Version)</td>\n      <td>173.66159</td>\n      <td>0</td>\n    </tr>\n    <tr>\n      <th>2</th>\n      <td>1</td>\n      <td>ARMAC4T1187FB3FA4C</td>\n      <td>40.826241</td>\n      <td>-74.479950</td>\n      <td>Morris Plains, NJ</td>\n      <td>The Dillinger Escape Plan</td>\n      <td>SOBBUGU12A8C13E95D</td>\n      <td>Setting Fire to Sleeping Giants</td>\n      <td>207.77751</td>\n      <td>2004</td>\n    </tr>\n    <tr>\n      <th>3</th>\n      <td>1</td>\n      <td>ARPBNLO1187FB3D52F</td>\n      <td>40.714550</td>\n      <td>-74.007118</td>\n      <td>New York, NY</td>\n      <td>Tiny Tim</td>\n      <td>SOAOIBZ12AB01815BE</td>\n      <td>I Hold Your Hand In Mine [Live At Royal Albert...</td>\n      <td>43.36281</td>\n      <td>2000</td>\n    </tr>\n    <tr>\n      <th>4</th>\n      <td>1</td>\n      <td>ARDNS031187B9924F0</td>\n      <td>32.678280</td>\n      <td>-83.222954</td>\n      <td>Georgia</td>\n      <td>Tim Wilson</td>\n      <td>SONYPOM12A8C13B2D7</td>\n      <td>I Think My Wife Is Running Around On Me (Taco ...</td>\n      <td>186.48771</td>\n      <td>2005</td>\n    </tr>\n  </tbody>\n</table>\n</div>"
     },
     "metadata": {},
     "execution_count": 42
    }
   ],
   "source": [
    "# checking the dataset\n",
    "df_song.limit(5).toPandas()"
   ]
  },
  {
   "cell_type": "code",
   "execution_count": 43,
   "metadata": {},
   "outputs": [
    {
     "output_type": "stream",
     "name": "stdout",
     "text": [
      "root\n |-- num_songs: integer (nullable = true)\n |-- artist_id: string (nullable = true)\n |-- artist_latitude: float (nullable = true)\n |-- artist_longitude: float (nullable = true)\n |-- artist_location: string (nullable = true)\n |-- artist_name: string (nullable = true)\n |-- song_id: string (nullable = true)\n |-- title: string (nullable = true)\n |-- duration: double (nullable = true)\n |-- year: integer (nullable = true)\n\n"
     ]
    }
   ],
   "source": [
    "# checking the dataset\n",
    "df_song.printSchema()"
   ]
  },
  {
   "cell_type": "code",
   "execution_count": 45,
   "metadata": {},
   "outputs": [
    {
     "output_type": "execute_result",
     "data": {
      "text/plain": [
       "71"
      ]
     },
     "metadata": {},
     "execution_count": 45
    }
   ],
   "source": [
    "# checking the number of observations present in song-data\n",
    "df_song.count()"
   ]
  },
  {
   "source": [
    "**Everything looks great in reading phase now!**"
   ],
   "cell_type": "markdown",
   "metadata": {}
  },
  {
   "source": [
    "## 2. Creating the Fact Table"
   ],
   "cell_type": "markdown",
   "metadata": {}
  },
  {
   "cell_type": "code",
   "execution_count": 28,
   "metadata": {},
   "outputs": [],
   "source": [
    "# casting ts to a datetime format\n",
    "df_log = df_log.withColumn('ts', F.to_timestamp(df_log.ts / 1000))"
   ]
  },
  {
   "cell_type": "code",
   "execution_count": 83,
   "metadata": {},
   "outputs": [],
   "source": [
    "columns= ['ts as start_time', \n",
    "          'userId as user_id', \n",
    "          'level', \n",
    "          'song_id', \n",
    "          'artist_id',\n",
    "          'sessionId as session_id', \n",
    "          'location',\n",
    "          'userAgent as user_agent']\n",
    "\n",
    "condition = [df_log.song == df_song.title, df_log.length == df_song.duration, df_log.artist == df_song.artist_name]\n",
    "\n",
    "songplay = df_log.join(df_song, on = condition, how = 'left_outer').selectExpr(*columns)"
   ]
  },
  {
   "cell_type": "code",
   "execution_count": 84,
   "metadata": {},
   "outputs": [
    {
     "output_type": "stream",
     "name": "stdout",
     "text": [
      "+--------------------+-------+-----+-------+---------+----------+--------------------+--------------------+\n|          start_time|user_id|level|song_id|artist_id|session_id|            location|          user_agent|\n+--------------------+-------+-----+-------+---------+----------+--------------------+--------------------+\n|2018-11-14 22:30:...|     26| free|   null|     null|       583|San Jose-Sunnyval...|\"Mozilla/5.0 (X11...|\n|2018-11-14 22:41:...|     26| free|   null|     null|       583|San Jose-Sunnyval...|\"Mozilla/5.0 (X11...|\n|2018-11-14 22:45:...|     26| free|   null|     null|       583|San Jose-Sunnyval...|\"Mozilla/5.0 (X11...|\n|2018-11-14 23:57:...|      9| free|   null|     null|       563|Eureka-Arcata-For...|Mozilla/5.0 (Wind...|\n|2018-11-15 01:29:...|     12| free|   null|     null|       521|New York-Newark-J...|Mozilla/5.0 (Wind...|\n|2018-11-15 01:44:...|     61| free|   null|     null|       597|Houston-The Woodl...|\"Mozilla/5.0 (Mac...|\n|2018-11-15 01:44:...|     61| free|   null|     null|       597|Houston-The Woodl...|\"Mozilla/5.0 (Mac...|\n|2018-11-15 03:34:...|       | paid|   null|     null|       602|                null|                null|\n|2018-11-15 03:37:...|     80| paid|   null|     null|       602|Portland-South Po...|\"Mozilla/5.0 (Mac...|\n|2018-11-15 03:48:...|     80| paid|   null|     null|       602|Portland-South Po...|\"Mozilla/5.0 (Mac...|\n|2018-11-15 03:53:...|     80| paid|   null|     null|       602|Portland-South Po...|\"Mozilla/5.0 (Mac...|\n|2018-11-15 03:55:...|     80| paid|   null|     null|       602|Portland-South Po...|\"Mozilla/5.0 (Mac...|\n|2018-11-15 04:01:...|     80| paid|   null|     null|       602|Portland-South Po...|\"Mozilla/5.0 (Mac...|\n|2018-11-15 04:01:...|     80| paid|   null|     null|       602|Portland-South Po...|\"Mozilla/5.0 (Mac...|\n|2018-11-15 04:07:...|     80| paid|   null|     null|       602|Portland-South Po...|\"Mozilla/5.0 (Mac...|\n|2018-11-15 04:10:...|     80| paid|   null|     null|       602|Portland-South Po...|\"Mozilla/5.0 (Mac...|\n|2018-11-15 04:13:...|     80| paid|   null|     null|       602|Portland-South Po...|\"Mozilla/5.0 (Mac...|\n|2018-11-15 04:14:...|     15| paid|   null|     null|       582|Chicago-Napervill...|\"Mozilla/5.0 (X11...|\n|2018-11-15 04:17:...|     80| paid|   null|     null|       602|Portland-South Po...|\"Mozilla/5.0 (Mac...|\n|2018-11-15 04:18:...|     15| paid|   null|     null|       582|Chicago-Napervill...|\"Mozilla/5.0 (X11...|\n+--------------------+-------+-----+-------+---------+----------+--------------------+--------------------+\nonly showing top 20 rows\n\n"
     ]
    }
   ],
   "source": [
    "songplay.show()"
   ]
  },
  {
   "cell_type": "code",
   "execution_count": null,
   "metadata": {},
   "outputs": [],
   "source": []
  }
 ]
}