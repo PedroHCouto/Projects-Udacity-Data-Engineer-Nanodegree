{
 "cells": [
  {
   "cell_type": "code",
   "execution_count": 19,
   "source": [
    "import pandas as pd\n",
    "import numpy as np\n",
    "from yahooquery import Ticker\n",
    "import datetime"
   ],
   "outputs": [],
   "metadata": {}
  },
  {
   "cell_type": "code",
   "execution_count": 25,
   "source": [
    "date = datetime.datetime.fromisoformat('2020-11-01')"
   ],
   "outputs": [],
   "metadata": {}
  },
  {
   "cell_type": "code",
   "execution_count": 26,
   "source": [
    "date = date - datetime.timedelta(days= 1)"
   ],
   "outputs": [],
   "metadata": {}
  },
  {
   "cell_type": "code",
   "execution_count": 27,
   "source": [
    "apple = Ticker(['BTC-USD', 'ETH-USD'])"
   ],
   "outputs": [],
   "metadata": {}
  },
  {
   "cell_type": "code",
   "execution_count": 29,
   "source": [
    "df = apple.history(start=date, end = date)"
   ],
   "outputs": [],
   "metadata": {}
  },
  {
   "cell_type": "code",
   "execution_count": 33,
   "source": [
    "df.reset_index()"
   ],
   "outputs": [
    {
     "output_type": "execute_result",
     "data": {
      "text/html": [
       "<div>\n",
       "<style scoped>\n",
       "    .dataframe tbody tr th:only-of-type {\n",
       "        vertical-align: middle;\n",
       "    }\n",
       "\n",
       "    .dataframe tbody tr th {\n",
       "        vertical-align: top;\n",
       "    }\n",
       "\n",
       "    .dataframe thead th {\n",
       "        text-align: right;\n",
       "    }\n",
       "</style>\n",
       "<table border=\"1\" class=\"dataframe\">\n",
       "  <thead>\n",
       "    <tr style=\"text-align: right;\">\n",
       "      <th></th>\n",
       "      <th>symbol</th>\n",
       "      <th>date</th>\n",
       "      <th>close</th>\n",
       "      <th>open</th>\n",
       "      <th>low</th>\n",
       "      <th>high</th>\n",
       "      <th>volume</th>\n",
       "      <th>adjclose</th>\n",
       "    </tr>\n",
       "  </thead>\n",
       "  <tbody>\n",
       "    <tr>\n",
       "      <th>0</th>\n",
       "      <td>BTC-USD</td>\n",
       "      <td>2020-10-30</td>\n",
       "      <td>13546.522461</td>\n",
       "      <td>13437.874023</td>\n",
       "      <td>13136.198242</td>\n",
       "      <td>13651.516602</td>\n",
       "      <td>30581485201</td>\n",
       "      <td>13546.522461</td>\n",
       "    </tr>\n",
       "    <tr>\n",
       "      <th>1</th>\n",
       "      <td>ETH-USD</td>\n",
       "      <td>2020-10-30</td>\n",
       "      <td>382.819977</td>\n",
       "      <td>386.730255</td>\n",
       "      <td>375.092407</td>\n",
       "      <td>391.464722</td>\n",
       "      <td>13688056970</td>\n",
       "      <td>382.819977</td>\n",
       "    </tr>\n",
       "  </tbody>\n",
       "</table>\n",
       "</div>"
      ],
      "text/plain": [
       "    symbol        date         close          open           low  \\\n",
       "0  BTC-USD  2020-10-30  13546.522461  13437.874023  13136.198242   \n",
       "1  ETH-USD  2020-10-30    382.819977    386.730255    375.092407   \n",
       "\n",
       "           high       volume      adjclose  \n",
       "0  13651.516602  30581485201  13546.522461  \n",
       "1    391.464722  13688056970    382.819977  "
      ]
     },
     "metadata": {},
     "execution_count": 33
    }
   ],
   "metadata": {}
  },
  {
   "cell_type": "code",
   "execution_count": null,
   "source": [],
   "outputs": [],
   "metadata": {}
  }
 ],
 "metadata": {
  "orig_nbformat": 4,
  "language_info": {
   "name": "python",
   "version": "3.9.6",
   "mimetype": "text/x-python",
   "codemirror_mode": {
    "name": "ipython",
    "version": 3
   },
   "pygments_lexer": "ipython3",
   "nbconvert_exporter": "python",
   "file_extension": ".py"
  },
  "kernelspec": {
   "name": "python3",
   "display_name": "Python 3.9.6 64-bit ('de': conda)"
  },
  "interpreter": {
   "hash": "efd6b030ded6ff5f3a88ecb91a60b8f0fa95a91cec658d17cd55df7a2cd0038c"
  }
 },
 "nbformat": 4,
 "nbformat_minor": 2
}